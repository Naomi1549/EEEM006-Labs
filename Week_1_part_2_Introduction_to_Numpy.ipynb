{
  "cells": [
    {
      "cell_type": "markdown",
      "metadata": {
        "id": "a7GxengBWpKf"
      },
      "source": [
        "<H1 style=\"text-align: center\">EEEM066 - Fundamentals of Machine Learning</H1>\n",
        "<H1 style=\"text-align: center\">Week 1 (Part 2): Introduction to NumPy</H1>\n",
        "\n",
        "> Dr. Xiatian (Eddy) Zhu, Dr Syed Sameed Husain\n",
        "\n",
        "> xiatian.zhu@surrey.ac.uk, sameed.husain@surrey.ac.uk"
      ]
    },
    {
      "cell_type": "markdown",
      "metadata": {
        "id": "rYjyQuzpvrDq"
      },
      "source": [
        "**Introduction**\n",
        "\n",
        "Prerequisites: A basic understanding of the Python Programming Language covered in Week 1 Part 1's lab notebook!\n",
        "\n",
        "\n",
        "The objective of today’s lab is to introduce you to the NumPy and PyTorch libraries.\n",
        "\n",
        "“**Num**erical **Py**thon\" (NumPy) and **PyTorch** are popular scientific computing libraries in Python that\n",
        "provide support for arrays of numerical data, specifically multidimensional arrays. Although both NumPy\n",
        "and PyTorch are written in Python, their underlying numerical operations are often implemented in C or\n",
        "C++ to provide more efficient and convenient ways to perform operations on arrays.\n",
        "\n",
        "\n",
        "* NumPy is a fundamental package for scientific computing in Python. It provides support for multi-\n",
        "dimensional arrays and matrices, as well as functions that operate on them. It is commonly used to\n",
        "preprocess and manipulate data before feeding it into machine learning models. For example, you can use\n",
        "NumPy to reshape, normalise, or scale datasets, as well as to split datasets into training and testing sets.\n",
        "\n",
        "\n",
        "* PyTorch is an open-source machine learning library developed by Meta. It is designed to provide flexibility\n",
        "and speed for building deep learning models. PyTorch provides a range of functions and tools for building\n",
        "and training neural networks, including automatic differentiation, GPU acceleration, and distributed training.\n",
        "Both NumPy and PyTorch can be used to create, manipulate, and transform numerical data in ways that are\n",
        "essential to building and training machine learning models. They are key tools in the modern data scientist’s\n",
        "toolkit.\n",
        "\n",
        "\n",
        "Happy Programming!⚡⚡"
      ]
    },
    {
      "cell_type": "markdown",
      "metadata": {
        "id": "klM1LTmwfGSj"
      },
      "source": [
        "# Contents\n",
        "\n",
        "\n",
        "*   [Arrays](https://colab.research.google.com/drive/1OsdZtZbC3hUsyxubwRA_v4YLp_65onqK#scrollTo=TLWP0Mj8rwgX)\n",
        "*   [Datatypes](https://colab.research.google.com/drive/1OsdZtZbC3hUsyxubwRA_v4YLp_65onqK#scrollTo=m4UGxdyIuQuH)\n",
        "*   [Array Broadcasting](https://colab.research.google.com/drive/1OsdZtZbC3hUsyxubwRA_v4YLp_65onqK#scrollTo=mz7HbAAkvSmJ)\n",
        "*   [Shape Manipulation](https://colab.research.google.com/drive/1OsdZtZbC3hUsyxubwRA_v4YLp_65onqK#scrollTo=_-eiN0rt2uMq)\n",
        "*   [References](https://colab.research.google.com/drive/1OsdZtZbC3hUsyxubwRA_v4YLp_65onqK#scrollTo=Epc2J0BLdyJo)\n",
        "\n"
      ]
    },
    {
      "cell_type": "markdown",
      "metadata": {
        "id": "TLWP0Mj8rwgX"
      },
      "source": [
        "## Arrays\n",
        "\n"
      ]
    },
    {
      "cell_type": "markdown",
      "metadata": {
        "id": "1-wkL2hqbFAr"
      },
      "source": [
        "Store and manipulate numerical data efficiently.\n",
        "* homogeneous and multidimensional!\n",
        "\n",
        "All the elements in the array should be of the same data type, and the array can have one or more dimensions."
      ]
    },
    {
      "cell_type": "code",
      "execution_count": 1,
      "metadata": {
        "colab": {
          "base_uri": "https://localhost:8080/"
        },
        "id": "mgBAKm_brtlV",
        "outputId": "ad37d663-d254-4823-fab2-f050227fa69d"
      },
      "outputs": [
        {
          "output_type": "stream",
          "name": "stdout",
          "text": [
            "[1 2 3 4 5]\n",
            "[[1 2 3]\n",
            " [4 5 6]\n",
            " [7 8 9]]\n"
          ]
        }
      ],
      "source": [
        "import numpy as np\n",
        "\n",
        "# create a 1-dimensional NumPy array\n",
        "arr1 = np.array([1, 2, 3, 4, 5])\n",
        "print(arr1)\n",
        "\n",
        "# create a 2-dimensional NumPy array\n",
        "arr2 = np.array([[1, 2, 3], [4, 5, 6], [7, 8, 9]])\n",
        "print(arr2)\n"
      ]
    },
    {
      "cell_type": "code",
      "execution_count": 2,
      "metadata": {
        "colab": {
          "base_uri": "https://localhost:8080/"
        },
        "id": "PJkVW93osFdn",
        "outputId": "2f3b97a1-85d9-41d6-cffe-b3ef5fa6106a"
      },
      "outputs": [
        {
          "output_type": "stream",
          "name": "stdout",
          "text": [
            "1\n",
            "6\n",
            "[2 5 8]\n"
          ]
        }
      ],
      "source": [
        "# access elements of a NumPy array\n",
        "print(arr1[0])      # prints 1\n",
        "print(arr2[1, 2])   # prints 6\n",
        "print(arr2[:, 1])   # prints [2 5 8]\n"
      ]
    },
    {
      "cell_type": "markdown",
      "metadata": {
        "id": "m4UGxdyIuQuH"
      },
      "source": [
        "## Datatypes\n",
        "\n"
      ]
    },
    {
      "cell_type": "markdown",
      "metadata": {
        "id": "UEZVfUb0uYdX"
      },
      "source": [
        "Integer data types:\n",
        "* int8, int16, int32, int64: signed integers of 8, 16, 32, or 64 bits respectively\n",
        "* uint8, uint16, uint32, uint64: unsigned integers of 8, 16, 32, or 64 bits respectively"
      ]
    },
    {
      "cell_type": "code",
      "execution_count": 3,
      "metadata": {
        "colab": {
          "base_uri": "https://localhost:8080/"
        },
        "id": "9H8ggCdyuhKA",
        "outputId": "48200b6f-4fb2-4e51-e0e5-5eb04301d726"
      },
      "outputs": [
        {
          "output_type": "stream",
          "name": "stdout",
          "text": [
            "int8\n",
            "uint16\n"
          ]
        }
      ],
      "source": [
        "\n",
        "arr_int8 = np.array([1, 2, 3], dtype=np.int8)\n",
        "arr_uint16 = np.array([10, 20, 30], dtype=np.uint16)\n",
        "\n",
        "print(arr_int8.dtype)   # output: int8\n",
        "print(arr_uint16.dtype) # output: uint16\n"
      ]
    },
    {
      "cell_type": "markdown",
      "metadata": {
        "id": "B39ZvNKvun1X"
      },
      "source": [
        "Float data types:\n",
        "* float16, float32, float64: floating-point numbers of 16, 32, or 64 bits respectively\n",
        "* complex64, complex128: complex numbers represented by 2 floats of 32 or 64 bits respectively"
      ]
    },
    {
      "cell_type": "code",
      "execution_count": 4,
      "metadata": {
        "colab": {
          "base_uri": "https://localhost:8080/"
        },
        "id": "aaztNqqfujKF",
        "outputId": "48af92db-b701-4aad-a772-4b98a48b9357"
      },
      "outputs": [
        {
          "output_type": "stream",
          "name": "stdout",
          "text": [
            "float32\n",
            "complex128\n"
          ]
        }
      ],
      "source": [
        "arr_float32 = np.array([1.0, 2.5, 3.7], dtype=np.float32)\n",
        "arr_complex128 = np.array([1 + 2j, 3 + 4j], dtype=np.complex128)\n",
        "\n",
        "print(arr_float32.dtype)      # output: float32\n",
        "print(arr_complex128.dtype)   # output: complex128\n"
      ]
    },
    {
      "cell_type": "markdown",
      "metadata": {
        "id": "dmfWS8E_u2kX"
      },
      "source": [
        "Boolean data types:\n",
        "* bool: boolean values True or False represented by a byte"
      ]
    },
    {
      "cell_type": "code",
      "execution_count": 5,
      "metadata": {
        "colab": {
          "base_uri": "https://localhost:8080/"
        },
        "id": "mDf8ZDG-0lzE",
        "outputId": "e6798732-8008-4eb8-cd2f-021d513e35d1"
      },
      "outputs": [
        {
          "output_type": "stream",
          "name": "stdout",
          "text": [
            "Requirement already satisfied: numpy==1.23 in /usr/local/lib/python3.10/dist-packages (1.23.0)\n"
          ]
        }
      ],
      "source": [
        "# np.bool has been deprecated in NumPy version 1.24.0\n",
        "!pip install numpy==1.23"
      ]
    },
    {
      "cell_type": "code",
      "execution_count": 6,
      "metadata": {
        "colab": {
          "base_uri": "https://localhost:8080/"
        },
        "id": "BtR0tBnguxGX",
        "outputId": "4b1afca3-3826-4c2d-c01c-ad76e0f73989"
      },
      "outputs": [
        {
          "output_type": "stream",
          "name": "stdout",
          "text": [
            "bool\n"
          ]
        },
        {
          "output_type": "stream",
          "name": "stderr",
          "text": [
            "<ipython-input-6-f058ffd75895>:2: DeprecationWarning: `np.bool` is a deprecated alias for the builtin `bool`. To silence this warning, use `bool` by itself. Doing this will not modify any behavior and is safe. If you specifically wanted the numpy scalar type, use `np.bool_` here.\n",
            "Deprecated in NumPy 1.20; for more details and guidance: https://numpy.org/devdocs/release/1.20.0-notes.html#deprecations\n",
            "  arr_bool = np.array([True, False, True], dtype=np.bool)\n"
          ]
        }
      ],
      "source": [
        "import numpy as np\n",
        "arr_bool = np.array([True, False, True], dtype=np.bool)\n",
        "\n",
        "print(arr_bool.dtype)    # output: bool\n"
      ]
    },
    {
      "cell_type": "markdown",
      "metadata": {
        "id": "MJ3cXaYYvC8q"
      },
      "source": [
        "String data types:\n",
        "* string_: fixed-length strings\n",
        "* unicode_: fixed-length strings of unicode characters"
      ]
    },
    {
      "cell_type": "code",
      "execution_count": 7,
      "metadata": {
        "colab": {
          "base_uri": "https://localhost:8080/"
        },
        "id": "kB02taUYvKLW",
        "outputId": "32d7ca92-5737-41a8-9cb7-c4cf0ebd6d6a"
      },
      "outputs": [
        {
          "output_type": "stream",
          "name": "stdout",
          "text": [
            "|S5\n",
            "<U5\n"
          ]
        }
      ],
      "source": [
        "arr_string = np.array(['hello', 'world'], dtype=np.string_)\n",
        "arr_unicode = np.array(['こんにちは', '안녕하세요'], dtype=np.unicode_)\n",
        "\n",
        "print(arr_string.dtype)   # output: |S5 (5 bytes per string)\n",
        "print(arr_unicode.dtype)  # output: <U5 (5 unicode characters per string)\n"
      ]
    },
    {
      "cell_type": "markdown",
      "metadata": {
        "id": "mz7HbAAkvSmJ"
      },
      "source": [
        "## Array Broadcasting\n",
        "\n",
        "Why?\n",
        "NumPy tries to perform the operation on arrays of the same shape, but if the shapes are not compatible, it can use the broadcasting rules to make the arrays compatible."
      ]
    },
    {
      "cell_type": "code",
      "execution_count": 8,
      "metadata": {
        "colab": {
          "base_uri": "https://localhost:8080/"
        },
        "id": "bwCLGqv01u43",
        "outputId": "d38ee79c-0b2c-49a8-89a0-2b38fecb3d6b"
      },
      "outputs": [
        {
          "output_type": "stream",
          "name": "stdout",
          "text": [
            "[2 4 6]\n"
          ]
        }
      ],
      "source": [
        "#1. Broadcasting a scalar value to an array\n",
        "\n",
        "arr = np.array([1, 2, 3])\n",
        "scalar = 2\n",
        "\n",
        "# multiply every element of arr by scalar\n",
        "result = arr * scalar\n",
        "\n",
        "print(result) # output: [2, 4, 6]\n",
        "\n",
        "#scalar value 2 is broadcasted to the same shape as the arr array, which is [1, 2, 3]"
      ]
    },
    {
      "cell_type": "code",
      "execution_count": 9,
      "metadata": {
        "colab": {
          "base_uri": "https://localhost:8080/"
        },
        "id": "y3-9XcJr112V",
        "outputId": "54a9b191-3965-48f3-e069-ed6a37448637"
      },
      "outputs": [
        {
          "output_type": "stream",
          "name": "stdout",
          "text": [
            "[[2 4 6]\n",
            " [5 7 9]]\n"
          ]
        }
      ],
      "source": [
        "#2. Broadcasting a one-dimensional array to a two-dimensional array\n",
        "\n",
        "arr1 = np.array([1, 2, 3])\n",
        "arr2 = np.array([[1, 2, 3], [4, 5, 6]])\n",
        "\n",
        "# add arr1 to every row of arr2\n",
        "result = arr1 + arr2\n",
        "\n",
        "print(result)\n",
        "# output: [[2, 4, 6], [5, 7, 9]]\n",
        "# arr1 is broadcasted to the same shape as each row of the arr2 array, which is [1, 2, 3]."
      ]
    },
    {
      "cell_type": "code",
      "execution_count": 10,
      "metadata": {
        "colab": {
          "base_uri": "https://localhost:8080/"
        },
        "id": "Iu7j2sCE2FdW",
        "outputId": "050dae54-1850-41e3-dc0e-9c5c23a46608"
      },
      "outputs": [
        {
          "output_type": "stream",
          "name": "stdout",
          "text": [
            "[[11 22 33]\n",
            " [14 25 36]]\n"
          ]
        }
      ],
      "source": [
        "#3. Broadcasting two arrays with different shapes\n",
        "\n",
        "arr1 = np.array([[1, 2, 3], [4, 5, 6]])\n",
        "arr2 = np.array([10, 20, 30])\n",
        "\n",
        "# add arr2 to every column of arr1\n",
        "result = arr1 + arr2\n",
        "\n",
        "print(result)\n",
        "# output: [[11, 22, 33], [14, 25, 36]]\n",
        "#  arr2 is broadcasted to the same shape as each column of the arr1 array, which is [[10, 20, 30], [10, 20, 30]]"
      ]
    },
    {
      "cell_type": "markdown",
      "metadata": {
        "id": "_-eiN0rt2uMq"
      },
      "source": [
        "## Shape Manipulation\n"
      ]
    },
    {
      "cell_type": "markdown",
      "metadata": {
        "id": "ZulRvRLK2rbP"
      },
      "source": [
        "1. Reshaping arrays: You can reshape an array to have a different shape using the reshape method."
      ]
    },
    {
      "cell_type": "code",
      "execution_count": 11,
      "metadata": {
        "colab": {
          "base_uri": "https://localhost:8080/"
        },
        "id": "8QU_W2UD297p",
        "outputId": "c9abd1f9-7c13-4033-f05b-d96890739e09"
      },
      "outputs": [
        {
          "output_type": "stream",
          "name": "stdout",
          "text": [
            "[[1 2 3]\n",
            " [4 5 6]\n",
            " [7 8 9]]\n"
          ]
        }
      ],
      "source": [
        "#reshape a 1D array to a 2D array using the following code:\n",
        "\n",
        "# create a 1D array with 9 elements\n",
        "a = np.array([1, 2, 3, 4, 5, 6, 7, 8, 9])\n",
        "\n",
        "# reshape the array to a 3x3 matrix\n",
        "b = a.reshape((3, 3))\n",
        "\n",
        "print(b)\n"
      ]
    },
    {
      "cell_type": "markdown",
      "metadata": {
        "id": "2gIpt-613Hve"
      },
      "source": [
        "2. Transposing arrays: You can transpose an array (i.e., switch its rows and columns) using the transpose method or the T attribute."
      ]
    },
    {
      "cell_type": "code",
      "execution_count": 12,
      "metadata": {
        "colab": {
          "base_uri": "https://localhost:8080/"
        },
        "id": "Xc8YDc5w3Dtn",
        "outputId": "f1314c7c-e62c-4fac-d360-7ef6f042fde2"
      },
      "outputs": [
        {
          "output_type": "stream",
          "name": "stdout",
          "text": [
            "[[1 3]\n",
            " [2 4]]\n"
          ]
        }
      ],
      "source": [
        "\n",
        "# create a 2D array\n",
        "a = np.array([[1, 2], [3, 4]])\n",
        "\n",
        "# transpose the array\n",
        "b = a.transpose()\n",
        "\n",
        "print(b)\n"
      ]
    },
    {
      "cell_type": "markdown",
      "metadata": {
        "id": "5ex0Tn2h3QYy"
      },
      "source": [
        "3. Flattening arrays: You can flatten a multi-dimensional array into a 1D array using the flatten method."
      ]
    },
    {
      "cell_type": "code",
      "execution_count": 13,
      "metadata": {
        "colab": {
          "base_uri": "https://localhost:8080/"
        },
        "id": "d7-ncWxF3LqI",
        "outputId": "c745e239-da12-481d-d128-e3403e4a070d"
      },
      "outputs": [
        {
          "output_type": "stream",
          "name": "stdout",
          "text": [
            "[1 2 3 4]\n"
          ]
        }
      ],
      "source": [
        "# create a 2D array\n",
        "a = np.array([[1, 2], [3, 4]])\n",
        "\n",
        "# flatten the array\n",
        "b = a.flatten()\n",
        "\n",
        "print(b)\n"
      ]
    },
    {
      "cell_type": "markdown",
      "metadata": {
        "id": "z6vOWmFs3ZnZ"
      },
      "source": [
        "4. Expanding dimensions: You can add dimensions to an array using the newaxis keyword. For example, you can add a new dimension to a 1D array to create a 2D array with one row and multiple columns."
      ]
    },
    {
      "cell_type": "code",
      "execution_count": 14,
      "metadata": {
        "colab": {
          "base_uri": "https://localhost:8080/"
        },
        "id": "AlizAheK3WM3",
        "outputId": "540c44fa-f9bb-4eb7-ab3c-3059ec135cf6"
      },
      "outputs": [
        {
          "output_type": "stream",
          "name": "stdout",
          "text": [
            "[[1 2 3]]\n"
          ]
        }
      ],
      "source": [
        "# create a 1D array with 3 elements\n",
        "a = np.array([1, 2, 3])\n",
        "\n",
        "# add a new dimension to create a 2D array\n",
        "b = a[np.newaxis, :]\n",
        "\n",
        "print(b)\n"
      ]
    },
    {
      "cell_type": "markdown",
      "metadata": {
        "id": "Epc2J0BLdyJo"
      },
      "source": [
        "## References:\n",
        "\n",
        "\n",
        "*   https://cs231n.github.io/python-numpy-tutorial/#numpy\n",
        "*   https://numpy.org/doc/stable/user/quickstart.html\n",
        "*   https://www.w3schools.com/python/numpy/default.asp\n",
        "\n",
        "\n",
        "\n"
      ]
    }
  ],
  "metadata": {
    "colab": {
      "provenance": []
    },
    "kernelspec": {
      "display_name": "Python 3",
      "name": "python3"
    },
    "language_info": {
      "name": "python"
    }
  },
  "nbformat": 4,
  "nbformat_minor": 0
}