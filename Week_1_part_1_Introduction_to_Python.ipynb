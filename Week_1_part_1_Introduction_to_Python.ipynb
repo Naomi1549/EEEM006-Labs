{
  "cells": [
    {
      "cell_type": "markdown",
      "metadata": {
        "id": "a7GxengBWpKf"
      },
      "source": [
        "<H1 style=\"text-align: center\">EEEM066- Fundamentals of Machine Learning</H1>\n",
        "<H1 style=\"text-align: center\">Week 1: Introduction to Python (Part 1)</H1>\n",
        "\n",
        "> Dr. Xiatian (Eddy) Zhu, Dr Syed Sameed Husain\n",
        "\n",
        "> xiatian.zhu@surrey.ac.uk, sameed.husain@surrey.ac.uk"
      ]
    },
    {
      "cell_type": "markdown",
      "metadata": {
        "id": "AnBaItBbDORk"
      },
      "source": [
        "**Introduction**\n",
        "\n",
        "Intended Audience: We assume you now have a basic hands-on experience of programming in MATLAB. The objective of this lab (and the upcoming sessions) is to introduce you to the Python programming language which will eventually assist you in completing your coursework.\n",
        "\n",
        "Many of you might already have some prior experience using Python and its libraries for instance, numpy, scipy etc. (as a part of EEEM071), hence, please feel free to rather have a quick glance through this notebook, and jumpstart with your coursework project.\n",
        "\n",
        "Happy Programming!⚡⚡"
      ]
    },
    {
      "cell_type": "markdown",
      "metadata": {
        "id": "ithYS_xZWuvM"
      },
      "source": [
        "# Python Programming Language\n",
        "\n",
        "An **interpreted**, **Object-oriented**, **garbage-collected** programming language.\n",
        "\n",
        "* \"**interpreted**\": Two types of languages -interpreted or compiled. Former, compiles (translates) the entire code into a machine level code before execution, whereas the latter tends to translate each line one by one at run-time and hence is comparatively slower but supports platform independence since binary code is not pre-compiled.\n",
        "\n",
        "* \"**Object-oriented**\": Provision for Classes and Objects and hence supports all fundamental OOPs concepts - encapsulation, abstraction, inheritance, and polymorphism.\n",
        "\n",
        "* \"**Grabage-collected**\": Consists of a dedicated engine, which frees up memory for objects no longer needed by the program (have gone out-of-scope)."
      ]
    },
    {
      "cell_type": "markdown",
      "metadata": {
        "id": "klM1LTmwfGSj"
      },
      "source": [
        "# Contents\n",
        "\n",
        "\n",
        "*   [Hello World!](https://colab.research.google.com/drive/1f4jmfmnrCsJZKdXl97J6h-DHk4eLuXKo#scrollTo=3bHr4IHjeEsf)\n",
        "*   [Datatypes](https://colab.research.google.com/drive/1f4jmfmnrCsJZKdXl97J6h-DHk4eLuXKo#scrollTo=Jl23IEWGfEaV)\n",
        "*   [Containers (or Collections)](https://colab.research.google.com/drive/1f4jmfmnrCsJZKdXl97J6h-DHk4eLuXKo#scrollTo=ixpuMWu-fKPv&line=7&uniqifier=1)\n",
        "*   [Condtional Statements](https://colab.research.google.com/drive/1f4jmfmnrCsJZKdXl97J6h-DHk4eLuXKo#scrollTo=SWcqgwNXGemx&line=12&uniqifier=1)\n",
        "*   [Control Statements](https://colab.research.google.com/drive/1f4jmfmnrCsJZKdXl97J6h-DHk4eLuXKo#scrollTo=YVxYeEkcRXbm&line=28&uniqifier=1)\n",
        "*   [Loops](https://colab.research.google.com/drive/1f4jmfmnrCsJZKdXl97J6h-DHk4eLuXKo#scrollTo=hSOufTuWLPPO&line=25&uniqifier=1)\n",
        "*   [Functions](https://colab.research.google.com/drive/1f4jmfmnrCsJZKdXl97J6h-DHk4eLuXKo#scrollTo=60LONgviO4px&line=13&uniqifier=1)\n",
        "*   [Classes and Objects](https://colab.research.google.com/drive/1f4jmfmnrCsJZKdXl97J6h-DHk4eLuXKo#scrollTo=QSDSvIEjPmUa&line=6&uniqifier=1)\n",
        "*   [Modules and Packages](https://colab.research.google.com/drive/1f4jmfmnrCsJZKdXl97J6h-DHk4eLuXKo#scrollTo=Modules_and_Packages)\n",
        "*   [References](https://colab.research.google.com/drive/1f4jmfmnrCsJZKdXl97J6h-DHk4eLuXKo#scrollTo=Epc2J0BLdyJo&line=7&uniqifier=1)\n",
        "\n"
      ]
    },
    {
      "cell_type": "markdown",
      "metadata": {
        "id": "3bHr4IHjeEsf"
      },
      "source": [
        "## Hello World!\n",
        "\n",
        "\n"
      ]
    },
    {
      "cell_type": "code",
      "execution_count": 2,
      "metadata": {
        "colab": {
          "base_uri": "https://localhost:8080/"
        },
        "id": "vNALhKZFWq28",
        "outputId": "4eb6cc60-f515-49f7-dfb2-4de62322de84"
      },
      "outputs": [
        {
          "output_type": "stream",
          "name": "stdout",
          "text": [
            "Hello World!\n",
            "Hello World!\n"
          ]
        }
      ],
      "source": [
        "#Basic print command\n",
        "print(\"Hello World!\")\n",
        "\n",
        "#String formatting, string.format(x1, x2...)\n",
        "print('{} {}{}'.format(\"Hello\", \"World\", \"!\"))\n"
      ]
    },
    {
      "cell_type": "markdown",
      "metadata": {
        "id": "Jl23IEWGfEaV"
      },
      "source": [
        "## Datatypes\n",
        "\n"
      ]
    },
    {
      "cell_type": "markdown",
      "metadata": {
        "id": "1-wkL2hqbFAr"
      },
      "source": [
        "There are four main datatypes in Python,\n",
        "\n",
        "\n",
        "*   Integer ('int') - All integer values.\n",
        "*   Float ('float') - All floating point decimal values.\n",
        "*   String ('str') - Strings or single characters.\n",
        "*   Boolean ('bool') - True/False\n",
        "\n"
      ]
    },
    {
      "cell_type": "code",
      "execution_count": 3,
      "metadata": {
        "colab": {
          "base_uri": "https://localhost:8080/"
        },
        "id": "htf5ZlftZd7O",
        "outputId": "78eb1569-7fea-4a43-d6b8-a688508f12db"
      },
      "outputs": [
        {
          "output_type": "stream",
          "name": "stdout",
          "text": [
            "100 is stored as type: <class 'int'>\n",
            "100.0 is stored as type: <class 'float'>\n",
            "University of Surrey is stored as type: <class 'str'>\n",
            "University of Surrey is stored as type: <class 'str'>\n",
            "True is stored as type: <class 'bool'>\n"
          ]
        }
      ],
      "source": [
        "x1 = 100\n",
        "x2 = 100.0\n",
        "x3 = 'University of Surrey'\n",
        "x4 = \"University of Surrey\" #in python both single quotes and double quotes are used to denote strings. ('' == \"\")\n",
        "x5 = True\n",
        "\n",
        "print(str(x1) + ' is stored as type: ' + str(type(x1)))\n",
        "print(str(x2) + ' is stored as type: ' + str(type(x2)))\n",
        "print(str(x3) + ' is stored as type: ' + str(type(x3)))\n",
        "print(str(x4) + ' is stored as type: ' + str(type(x4)))\n",
        "print(str(x5) + ' is stored as type: ' + str(type(x5)))"
      ]
    },
    {
      "cell_type": "markdown",
      "metadata": {
        "id": "mZWIMJ4YbqGu"
      },
      "source": [
        "## Typecasting in Python\n",
        "\n",
        "Python provides a convenient way to typecast or change existing datatypes using constructor functions: int(), str(), float()"
      ]
    },
    {
      "cell_type": "code",
      "execution_count": 4,
      "metadata": {
        "colab": {
          "base_uri": "https://localhost:8080/"
        },
        "id": "kHuU3cybbnmM",
        "outputId": "7955967b-d81e-46e8-df2b-5cf4d6a456b5"
      },
      "outputs": [
        {
          "output_type": "stream",
          "name": "stdout",
          "text": [
            "<class 'int'>\n",
            "<class 'int'>\n",
            "<class 'int'>\n"
          ]
        }
      ],
      "source": [
        "x1 = 100\n",
        "x2 = int(100.0)\n",
        "x3 = int(\"2\")\n",
        "\n",
        "print(type(x1))\n",
        "print(type(x2))\n",
        "print(type(x3))"
      ]
    },
    {
      "cell_type": "code",
      "execution_count": 5,
      "metadata": {
        "colab": {
          "base_uri": "https://localhost:8080/"
        },
        "id": "af_4-GAQeMC8",
        "outputId": "85aea9e4-333b-41ec-abd2-d8cff5f5ac4c"
      },
      "outputs": [
        {
          "output_type": "stream",
          "name": "stdout",
          "text": [
            "<class 'float'>\n",
            "<class 'float'>\n",
            "<class 'float'>\n"
          ]
        }
      ],
      "source": [
        "x1 = 100.0\n",
        "x2 = float(100)\n",
        "x3 = float(\"100\")\n",
        "\n",
        "print(type(x1))\n",
        "print(type(x2))\n",
        "print(type(x3))"
      ]
    },
    {
      "cell_type": "code",
      "execution_count": 6,
      "metadata": {
        "colab": {
          "base_uri": "https://localhost:8080/"
        },
        "id": "_l8URmvXd9tZ",
        "outputId": "1f7dcad6-5016-4fc3-c1f0-f1cae957b60f"
      },
      "outputs": [
        {
          "output_type": "stream",
          "name": "stdout",
          "text": [
            "<class 'str'>\n",
            "<class 'str'>\n",
            "<class 'str'>\n"
          ]
        }
      ],
      "source": [
        "x1 = \"100\"\n",
        "x2 = str(100)\n",
        "x3 = str(100.0)\n",
        "\n",
        "print(type(x1))\n",
        "print(type(x2))\n",
        "print(type(x3))"
      ]
    },
    {
      "cell_type": "markdown",
      "metadata": {
        "id": "ixpuMWu-fKPv"
      },
      "source": [
        "## Containers (or Collections)\n",
        "\n",
        "Apart from the basic datatypes discussed above, Python also provides container dataypes, which are essentially wrappers around the basic datatypes which serve a common functionality.\n",
        "* Lists - list([..., ])\n",
        "* Tuple - tuple(..., )\n",
        "* Dictionary - dict{key: value, ..., }\n",
        "* Set - set(..., )"
      ]
    },
    {
      "cell_type": "code",
      "execution_count": 7,
      "metadata": {
        "colab": {
          "base_uri": "https://localhost:8080/"
        },
        "id": "lmxWHl_vjHob",
        "outputId": "da5bad2e-fc7b-40ea-fd63-9389693a9faf"
      },
      "outputs": [
        {
          "output_type": "stream",
          "name": "stdout",
          "text": [
            "Empty list, x:  []\n",
            "After appending value in x:  [1]\n",
            "x1:  [1, 1, 1]\n",
            "x2:  [2, 2, 2]\n",
            "x1+x2:  [1, 1, 1, 2, 2, 2]\n",
            "x1 length:  3\n",
            "x1+x2 length:  6\n"
          ]
        }
      ],
      "source": [
        "#Lists : Ordered, mutable/dynamic, heterogeneous collection.\n",
        "'''\n",
        "Ordered: Sequence of insertion/deletion is maintained through integer indices.\n",
        "Mutable: Modifiable, addition, insertion within the same list.\n",
        "Heterogeneous: A single list can contain object of different datatypes, ex: int, str, object.\n",
        "'''\n",
        "\n",
        "#Creating new list\n",
        "x = [] #empty list\n",
        "x = list() #empty list using the list constructor\n",
        "print('Empty list, x: ', x)\n",
        "\n",
        "#Adding new values to the list\n",
        "x.append(1)\n",
        "print('After appending value in x: ', x)\n",
        "\n",
        "#Concatenating two lists\n",
        "x1 = [1, 1, 1]\n",
        "x2 = [2, 2, 2]\n",
        "x3 = x1+x2\n",
        "\n",
        "print(\"x1: \", x1)\n",
        "print(\"x2: \", x2)\n",
        "print(\"x1+x2: \", x3)\n",
        "\n",
        "# you can check the length/number of elements of a list with the len() function\n",
        "print(\"x1 length: \", len(x1))\n",
        "print(\"x1+x2 length: \", len(x3))"
      ]
    },
    {
      "cell_type": "code",
      "execution_count": 9,
      "metadata": {
        "colab": {
          "base_uri": "https://localhost:8080/"
        },
        "id": "nGykBq-gkivG",
        "outputId": "ca120799-6f5e-487e-94c5-2b41050f897d"
      },
      "outputs": [
        {
          "output_type": "stream",
          "name": "stdout",
          "text": [
            "Empty tuple, x:  ()\n",
            "x1:  (1, 1, 1)\n",
            "x2:  (2, 2, 2)\n",
            "x1+x2:  (1, 1, 1, 2, 2, 2)\n",
            "\n",
            " In case of huge number of elements ...\n",
            "size of list:  800040\n",
            "size of tuple:  800024\n"
          ]
        }
      ],
      "source": [
        "#Tuples : Same as lists except immutable/static!\n",
        "'''\n",
        "'''\n",
        "\n",
        "#Creating new tuple\n",
        "x = () #empty tuple\n",
        "x = tuple() #empty tuple using the tuple constructor\n",
        "print('Empty tuple, x: ', x)\n",
        "\n",
        "#Adding new values to a tuple\n",
        "# x.append(1) --> NOT ALLOWED, IMMUTABLE!!\n",
        "\n",
        "#Concatenating two tuples\n",
        "x1 = (1, 1, 1)\n",
        "x2 = (2, 2, 2)\n",
        "x3 = x1+x2\n",
        "\n",
        "print(\"x1: \", x1)\n",
        "print(\"x2: \", x2)\n",
        "print(\"x1+x2: \", x3)\n",
        "\n",
        "##Why use a tuple though??\n",
        "# Apart from being immutable, tuples are more memory efficient compared to lists (of particular interest when no. of elements > 10^5).\n",
        "x_list = list(range(100000))\n",
        "x_tuple = tuple(range(100000))\n",
        "\n",
        "print('\\n In case of huge number of elements ...')\n",
        "print('size of list: ', x_list.__sizeof__())\n",
        "print('size of tuple: ', x_tuple.__sizeof__())"
      ]
    },
    {
      "cell_type": "code",
      "execution_count": 10,
      "metadata": {
        "colab": {
          "base_uri": "https://localhost:8080/"
        },
        "id": "G6WR5umiod3b",
        "outputId": "fa090f88-5f04-4584-aad1-9f1945cc61fd"
      },
      "outputs": [
        {
          "output_type": "stream",
          "name": "stdout",
          "text": [
            "Empty dictionary, x:  {}\n",
            "x:  {'a': 1, 'b': 2, 'c': 3}\n",
            "Keys:  dict_keys(['a', 'b', 'c'])\n",
            "Values:  dict_values([1, 2, 3])\n",
            "Key:  a  -->  Value:  1\n",
            "Key:  b  -->  Value:  2\n",
            "Key:  c  -->  Value:  3\n",
            "Value in the dictionary for key = a,  1\n",
            "Value in the dictionary for key = b,  2\n"
          ]
        }
      ],
      "source": [
        "#Dictionary : Mutable/dynamic, wherein each element is defined by a key-value pair.\n",
        "'''\n",
        "dict - {key_1: value_1, key_2: value_2, ...}\n",
        "'''\n",
        "\n",
        "#Creating new dictionary\n",
        "x = {} #empty dictionary\n",
        "x = dict() #empty dictionary using the dictionary constructor\n",
        "print('Empty dictionary, x: ', x)\n",
        "\n",
        "# A sample dictionary with key-value pairs\n",
        "x = {'a': 1, 'b': 2, 'c': 3}\n",
        "print('x: ', x)\n",
        "\n",
        "#Accessing keys in a dict\n",
        "print('Keys: ', x.keys())\n",
        "\n",
        "#Accessing values in a dict\n",
        "print('Values: ', x.values())\n",
        "\n",
        "#Iterating through a dicitonary\n",
        "for k, v in x.items():\n",
        "    print('Key: ', k, ' --> ', 'Value: ', v)\n",
        "\n",
        "#Accessing elements using keys\n",
        "print('Value in the dictionary for key = a, ', x['a'])\n",
        "print('Value in the dictionary for key = b, ', x['b'])\n"
      ]
    },
    {
      "cell_type": "code",
      "execution_count": 11,
      "metadata": {
        "colab": {
          "base_uri": "https://localhost:8080/"
        },
        "id": "kzlYS2LF4eXD",
        "outputId": "3833f2a4-61c4-448e-8dd8-3b59da5516b9"
      },
      "outputs": [
        {
          "output_type": "stream",
          "name": "stdout",
          "text": [
            "Empty set, x:  set()\n",
            "x:  {'a', 'b', 'c'}\n"
          ]
        }
      ],
      "source": [
        "#Sets : unordered, Mutable/dynamic but \"unique\" collection of objects.\n",
        "'''\n",
        "set - {value_1, value_2, ...}\n",
        "'''\n",
        "\n",
        "#Creating new set\n",
        "x = set() #empty set using the set constructor\n",
        "print('Empty set, x: ', x)\n",
        "\n",
        "# A sample dictionary with key-value pairs\n",
        "x = {'a', 'b', 'c'}\n",
        "print('x: ', x)\n"
      ]
    },
    {
      "cell_type": "markdown",
      "metadata": {
        "id": "SWcqgwNXGemx"
      },
      "source": [
        "## Condtional Statements\n",
        "The if-else statements in python is used for decision making. Similar to any other programming language, Python follows the below basic syntax,\n",
        "\n",
        "\n",
        "```\n",
        "if <condition>:\n",
        "    <execute true block>\n",
        "else:\n",
        "    <execute false block>\n",
        "  ```\n",
        "\n"
      ]
    },
    {
      "cell_type": "code",
      "execution_count": 12,
      "metadata": {
        "colab": {
          "base_uri": "https://localhost:8080/"
        },
        "id": "La5oGj7UJdoK",
        "outputId": "162c59d7-e8a1-41e9-e89b-96818002b643"
      },
      "outputs": [
        {
          "output_type": "stream",
          "name": "stdout",
          "text": [
            "\n",
            "Search key: as\n",
            " Executing true block ...\n",
            " as exists in the list.\n",
            "Conditional block execution complete.\n",
            "----------\n",
            "\n",
            "Search key: ad\n",
            " Executing false block ...\n",
            " ad does not exist in the list.\n",
            "Conditional block execution complete.\n",
            "----------\n"
          ]
        }
      ],
      "source": [
        "def conditional_sample(key):\n",
        "    print('\\nSearch key: '+key)\n",
        "    if key in ['as', 'sa', 'vd']: #condition: <s in [...]>\n",
        "        print(' Executing true block ...')\n",
        "        print(' '+key+' exists in the list.')\n",
        "    else:\n",
        "        print(' Executing false block ...')\n",
        "        print(' '+key+' does not exist in the list.')\n",
        "    print('Conditional block execution complete.')\n",
        "    print('-'*10)\n",
        "\n",
        "s = 'as'\n",
        "conditional_sample(s)\n",
        "\n",
        "s = 'ad'\n",
        "conditional_sample(s)"
      ]
    },
    {
      "cell_type": "markdown",
      "metadata": {
        "id": "YVxYeEkcRXbm"
      },
      "source": [
        "## Control Statements - break, continue\n",
        "\n",
        "Control the flow of execution of a program. Make decisions, repeat code, control order of execution.\n",
        "\n",
        "\n",
        "\n",
        "*   break statement - allows to exit a loop prematurely.\n",
        "\n",
        "\n",
        "```\n",
        "while condition:\n",
        "    # code to be executed as long as condition is true\n",
        "    if some_condition:\n",
        "        break\n",
        "```\n",
        "\n",
        "\n",
        "*   continue statement - allows you to skip over an iteration of a loop.\n",
        "\n",
        "\n",
        "\n",
        "```\n",
        "for var in iterable:\n",
        "    if some_condition:\n",
        "        continue\n",
        "    # code to be executed for each item in iterable, except for items where some_condition is true\n",
        "\n",
        "```\n",
        "\n"
      ]
    },
    {
      "cell_type": "code",
      "execution_count": null,
      "metadata": {
        "colab": {
          "base_uri": "https://localhost:8080/"
        },
        "id": "kCLRcmAvcaVj",
        "outputId": "5b8f498c-ba9d-4536-fd18-b92a34c8a558"
      },
      "outputs": [
        {
          "name": "stdout",
          "output_type": "stream",
          "text": [
            "apple\n",
            "banana\n",
            "cherry\n"
          ]
        }
      ],
      "source": [
        "#example of a break statement\n",
        "fruits = [\"apple\", \"banana\", \"cherry\", \"orange\", \"kiwi\"]\n",
        "\n",
        "for fruit in fruits:\n",
        "    if fruit == \"orange\":\n",
        "        break   # stop the loop if we find the fruit we're looking for\n",
        "    print(fruit) # avoid printing out any more fruits after \"orange\"."
      ]
    },
    {
      "cell_type": "code",
      "execution_count": 13,
      "metadata": {
        "colab": {
          "base_uri": "https://localhost:8080/"
        },
        "id": "ckPcfaAgdSPn",
        "outputId": "de9a8376-d5a9-4fbe-e271-b663b24e2126"
      },
      "outputs": [
        {
          "output_type": "stream",
          "name": "stdout",
          "text": [
            "1\n",
            "3\n",
            "5\n",
            "7\n",
            "9\n"
          ]
        }
      ],
      "source": [
        "#example of a continue statement\n",
        "numbers = [1, 2, 3, 4, 5, 6, 7, 8, 9, 10]\n",
        "\n",
        "for num in numbers:\n",
        "    if num % 2 == 0:\n",
        "        continue   # skip over even numbers\n",
        "    print(num) #avoid printing out any even numbers and only print out the odd ones."
      ]
    },
    {
      "cell_type": "markdown",
      "metadata": {
        "id": "hSOufTuWLPPO"
      },
      "source": [
        "## Loops\n",
        "Programming constructs that allow for a repeated execution of a block of code based on certain conditions.\n",
        "\n",
        "\n",
        "*   for loop\n",
        "  Iterate over a sequence (ex: list, tuple, string, or range) for a specific number of times.\n",
        "\n",
        "\n",
        "```\n",
        "for variable in sequence:\n",
        "    # code block to be executed\n",
        "```\n",
        "\n",
        "\n",
        "*   while loop\n",
        "  Repeatedly execute a block of code as long as a certain condition is true.\n",
        "\n",
        "\n",
        "```\n",
        "while condition:\n",
        "    # code block to be executed\n",
        "```\n",
        "\n",
        "\n",
        "\n",
        "\n",
        "\n"
      ]
    },
    {
      "cell_type": "code",
      "execution_count": 14,
      "metadata": {
        "colab": {
          "base_uri": "https://localhost:8080/"
        },
        "id": "1toU67iaN4zq",
        "outputId": "696c3f8f-8406-4fbb-d92c-b7c96e3f06ad"
      },
      "outputs": [
        {
          "output_type": "stream",
          "name": "stdout",
          "text": [
            "\n",
            "Iterating over a list ... \n",
            "apple\n",
            "banana\n",
            "cherry\n",
            "\n",
            "Iterating over a string ... \n",
            "J\n",
            "o\n",
            "h\n",
            "n\n",
            "\n",
            "Iterating over a range of numbers ... \n",
            "1\n",
            "2\n",
            "3\n",
            "4\n",
            "5\n"
          ]
        }
      ],
      "source": [
        "print('\\nIterating over a list ... ')\n",
        "fruits = [\"apple\", \"banana\", \"cherry\"]\n",
        "for fruit in fruits:\n",
        "    print(fruit)\n",
        "\n",
        "print('\\nIterating over a string ... ')\n",
        "name = \"John\"\n",
        "for letter in name:\n",
        "    print(letter)\n",
        "\n",
        "print('\\nIterating over a range of numbers ... ')\n",
        "for i in range(1, 6):\n",
        "    print(i)"
      ]
    },
    {
      "cell_type": "code",
      "execution_count": 15,
      "metadata": {
        "colab": {
          "base_uri": "https://localhost:8080/"
        },
        "id": "_mUYea7COT4P",
        "outputId": "39d7168e-fc53-44bb-d7b1-2b5f83a13bcb"
      },
      "outputs": [
        {
          "output_type": "stream",
          "name": "stdout",
          "text": [
            "Summation using a while loop ...\n",
            "\n",
            "Iterating over 1\n",
            "Current sum: 1\n",
            "\n",
            "Iterating over 2\n",
            "Current sum: 3\n",
            "\n",
            "Iterating over 3\n",
            "Current sum: 6\n",
            "\n",
            "Iterating over 4\n",
            "Current sum: 10\n",
            "\n",
            "Iterating over 5\n",
            "Current sum: 15\n",
            "\n",
            "\n",
            "Final sum is: 15\n"
          ]
        }
      ],
      "source": [
        "print('Summation using a while loop ...')\n",
        "sum = 0\n",
        "i = 1\n",
        "while i <= 5:\n",
        "    print('\\nIterating over '+str(i))\n",
        "    sum += i\n",
        "    i += 1\n",
        "    print('Current sum: '+str(sum))\n",
        "\n",
        "print(\"\\n\\nFinal sum is:\", sum)"
      ]
    },
    {
      "cell_type": "markdown",
      "metadata": {
        "id": "Jhh1XdNSNjye"
      },
      "source": [
        "### How can container and loop be used together?\n",
        "\n",
        "Ans: a simple application in machine learning is matrix multiplication.\n",
        "\n",
        "Matrix multiplication is a mathematical operation that involves multiplying two matrices together to produce a third matrix. When performing matrix multiplication in Python, you can use **containers** like `numpy` arrays to represent the matrices. This involves creating two-dimensional arrays that hold the values of the matrices.\n",
        "\n",
        "To perform matrix multiplication, you can use a naive approach that involves using nested **loops** to iterate over the rows and columns of the matrices. The **loops** compute the products of the corresponding elements and store them in the appropriate positions in the resulting matrix. This approach is simple and easy to understand, but can be computationally expensive for large matrices."
      ]
    },
    {
      "cell_type": "code",
      "execution_count": 16,
      "metadata": {
        "colab": {
          "base_uri": "https://localhost:8080/"
        },
        "id": "O-gYQw-cUz1F",
        "outputId": "fc1f5e65-1a62-4c80-cd40-2c51d2c58a45"
      },
      "outputs": [
        {
          "output_type": "stream",
          "name": "stdout",
          "text": [
            "[[19, 22], [43, 50]]\n"
          ]
        }
      ],
      "source": [
        "# Define the 2x2 matrices (in python it is a list of lists)\n",
        "A = [[1, 2], [3, 4]]\n",
        "B = [[5, 6], [7, 8]]\n",
        "\n",
        "# Create an empty 2x2 matrix to store the result\n",
        "C = [[0, 0], [0, 0]]\n",
        "\n",
        "# Iterate over the rows of A\n",
        "for i in range(len(A)):\n",
        "    # Iterate over the columns of B\n",
        "    for j in range(len(B[0])):\n",
        "        # Iterate over the rows of B\n",
        "        for k in range(len(B)):\n",
        "            # Compute the product of corresponding elements and add to the result matrix\n",
        "            C[i][j] += A[i][k] * B[k][j]\n",
        "\n",
        "# Print the result\n",
        "print(C)"
      ]
    },
    {
      "cell_type": "markdown",
      "metadata": {
        "id": "i2lZsXctWELv"
      },
      "source": [
        "While this approach is simple to understand, it can be inefficient for large matrices. In practice, optimized linear algebra libraries like `numpy` use more efficient algorithms and techniques to perform matrix multiplication, resulting in faster computation times."
      ]
    },
    {
      "cell_type": "markdown",
      "metadata": {
        "id": "60LONgviO4px"
      },
      "source": [
        "## Functions\n",
        "Reusable blocks of code that perform specific tasks, that help in making the code more modular (easy to read and maintain).\n",
        "\n",
        "\n",
        "```\n",
        "def function_name(argument1, argument2, ...):\n",
        "    # function body\n",
        "    statement1\n",
        "    statement2\n",
        "    ...\n",
        "    return value\n",
        "\n",
        "```\n",
        "\n"
      ]
    },
    {
      "cell_type": "code",
      "execution_count": 17,
      "metadata": {
        "colab": {
          "base_uri": "https://localhost:8080/"
        },
        "id": "PLxwnuKEPOWL",
        "outputId": "0725782b-0c53-4532-fbb4-92bb6440991e"
      },
      "outputs": [
        {
          "output_type": "stream",
          "name": "stdout",
          "text": [
            "8\n"
          ]
        }
      ],
      "source": [
        "#a simple function definition that adds two numbers\n",
        "def add_numbers(x, y):\n",
        "    sum = x + y\n",
        "    return sum\n",
        "\n",
        "#passing in values for x and y\n",
        "result = add_numbers(5, 3)\n",
        "print(result) # Output: 8\n"
      ]
    },
    {
      "cell_type": "markdown",
      "metadata": {
        "id": "QSDSvIEjPmUa"
      },
      "source": [
        "## Classes and Objects\n",
        "\n",
        "Classes define a set of attributes (i.e., variables) and methods (i.e., functions) that are shared by all instances of the class.\n",
        "\n",
        "An Object is an instance of a class, with its own set of attribute values.\n",
        "\n",
        "\n"
      ]
    },
    {
      "cell_type": "code",
      "execution_count": 18,
      "metadata": {
        "id": "LX1lECuOP-Mt"
      },
      "outputs": [],
      "source": [
        "class Person:\n",
        "    '''\n",
        "    a Person class with two attributes (name and age) and one method (get_details)\n",
        "    '''\n",
        "    def __init__(self, name, age): #called when an object is created from the class\n",
        "        self.name = name\n",
        "        self.age = age\n",
        "\n",
        "    def get_details(self):\n",
        "        print(\"Name: \", self.name, \"\\t Age: \", self.age)"
      ]
    },
    {
      "cell_type": "markdown",
      "metadata": {
        "id": "UQEgihrFeruh"
      },
      "source": [
        "In this example, the Person class has two attributes, `name` and `age`, which are passed in as parameters to the constructor method `__init__`. The class also has a method called `get_details`, which prints a message using the `name` and `age` attributes."
      ]
    },
    {
      "cell_type": "code",
      "execution_count": 19,
      "metadata": {
        "id": "jY2VMlqeQAyo"
      },
      "outputs": [],
      "source": [
        "# To create an object of the Person class, you can call the constructor method like this:\n",
        "person1 = Person(\"John\", 22)\n",
        "person2 = Person(\"Harry\", 23)"
      ]
    },
    {
      "cell_type": "markdown",
      "metadata": {
        "id": "JihIBYBcfpg2"
      },
      "source": [
        "This creates a new object of the Person class and assigns it to the variable `person1`/`person2`."
      ]
    },
    {
      "cell_type": "markdown",
      "metadata": {
        "id": "933K1djQfJ7-"
      },
      "source": [
        "You can access the object's attributes and methods using dot notation, like this:"
      ]
    },
    {
      "cell_type": "code",
      "execution_count": 20,
      "metadata": {
        "colab": {
          "base_uri": "https://localhost:8080/"
        },
        "id": "lrL0nj4ZQY2D",
        "outputId": "69dd890a-835c-4aef-b1ff-3170325c6da7"
      },
      "outputs": [
        {
          "output_type": "stream",
          "name": "stdout",
          "text": [
            "John\n",
            "Name:  Harry \t Age:  23\n"
          ]
        }
      ],
      "source": [
        "print(person1.name) #accessing the name attribute for object person1\n",
        "person2.get_details() # calling the get_details() method for object person2"
      ]
    },
    {
      "cell_type": "markdown",
      "metadata": {
        "id": "HPcK2vjtfmfL"
      },
      "source": [
        "When you print an object in Python, the output you see is the default string representation of the object."
      ]
    },
    {
      "cell_type": "code",
      "execution_count": 21,
      "metadata": {
        "colab": {
          "base_uri": "https://localhost:8080/"
        },
        "id": "9GL2W715QQLg",
        "outputId": "989bedbf-4588-4c98-f03a-220127dbe9af"
      },
      "outputs": [
        {
          "output_type": "stream",
          "name": "stdout",
          "text": [
            "<__main__.Person object at 0x7f494351d510>\n",
            "<__main__.Person object at 0x7f494351d480>\n"
          ]
        }
      ],
      "source": [
        "print(person1)\n",
        "print(person2)"
      ]
    },
    {
      "cell_type": "markdown",
      "metadata": {
        "id": "l7ugmYCjf_o6"
      },
      "source": [
        "This representation is typically the class name, followed by the memory address of the object in hexadecimal format. This output tells you that you have an object of the Person class located at memory address `0x7fc7323ce3d0`. The `__main__` part of the output refers to the name of the module in which the class is defined. If you want to provide a custom string representation for your objects, you can define a special method called `__str__` in your class. This method should return a string that represents the object in a more human-readable format."
      ]
    },
    {
      "cell_type": "code",
      "execution_count": 22,
      "metadata": {
        "id": "bPsLXO8LgCTa"
      },
      "outputs": [],
      "source": [
        "class Person:\n",
        "    def __init__(self, name, age):\n",
        "        self.name = name\n",
        "        self.age = age\n",
        "\n",
        "    def get_details(self):\n",
        "        print(\"Name: \", self.name, \"\\t Age: \", self.age)\n",
        "\n",
        "    def __str__(self):\n",
        "        return \"Person(name={}, age={})\".format(self.name, self.age)"
      ]
    },
    {
      "cell_type": "markdown",
      "metadata": {
        "id": "9RwP1G63gInO"
      },
      "source": [
        "In this example, the `__str__` method returns a string that includes the name and age attributes of the object. Now when you print the object, you'll see output like this:"
      ]
    },
    {
      "cell_type": "code",
      "execution_count": 23,
      "metadata": {
        "colab": {
          "base_uri": "https://localhost:8080/"
        },
        "id": "tOpPzD9agM2-",
        "outputId": "27dc888d-0180-4f33-842b-b6757b048a39"
      },
      "outputs": [
        {
          "output_type": "stream",
          "name": "stdout",
          "text": [
            "Person(name=Alice, age=30)\n"
          ]
        }
      ],
      "source": [
        "person1 = Person(\"Alice\", 30)\n",
        "print(person1)\n",
        "\n",
        "# Output: Person(name=Alice, age=30)"
      ]
    },
    {
      "cell_type": "markdown",
      "metadata": {
        "id": "y8VNMfAZgSBo"
      },
      "source": [
        "This is a more informative string representation of the person1 object."
      ]
    },
    {
      "cell_type": "markdown",
      "metadata": {
        "id": "WrSSfeypgfLs"
      },
      "source": [
        "## Modules and Packages"
      ]
    },
    {
      "cell_type": "markdown",
      "metadata": {
        "id": "kbNYJEe7g1vS"
      },
      "source": [
        "In Python, a module is a file containing Python code. A module can define functions, classes, and variables, which can be used in other Python programs. When you want to use code from a module in your program, you can import the module using the `import` statement."
      ]
    },
    {
      "cell_type": "code",
      "execution_count": 24,
      "metadata": {
        "colab": {
          "base_uri": "https://localhost:8080/"
        },
        "id": "R_DrAnxzgecK",
        "outputId": "98373825-68cb-45e1-a51b-06eb25f03044"
      },
      "outputs": [
        {
          "output_type": "stream",
          "name": "stdout",
          "text": [
            "5.0\n"
          ]
        }
      ],
      "source": [
        "# Here's an example of how to import a module called \"math\":\n",
        "\n",
        "import math\n",
        "\n",
        "result = math.sqrt(25)\n",
        "print(result)  # Output: 5.0"
      ]
    },
    {
      "cell_type": "markdown",
      "metadata": {
        "id": "ZEcG5CjqhEfE"
      },
      "source": [
        "In this example, we import the math module and use its sqrt function to compute the square root of 25."
      ]
    },
    {
      "cell_type": "markdown",
      "metadata": {
        "id": "bpwNBAQuhFqt"
      },
      "source": [
        "A package is a collection of modules that are organized in a directory hierarchy. Packages are used to organize related modules and provide a namespace to avoid naming conflicts. A package can contain subpackages, which are themselves packages, and modules. To use a module from a package, you need to specify the package name and the module name, separated by a dot. For example, to use the numpy package's linspace function, you would write:"
      ]
    },
    {
      "cell_type": "code",
      "execution_count": 25,
      "metadata": {
        "colab": {
          "base_uri": "https://localhost:8080/"
        },
        "id": "dyXaqNRAhMf9",
        "outputId": "523893eb-5882-49d1-db07-c5e0b542f8f4"
      },
      "outputs": [
        {
          "output_type": "stream",
          "name": "stdout",
          "text": [
            "[ 0.   2.5  5.   7.5 10. ]\n"
          ]
        }
      ],
      "source": [
        "import numpy\n",
        "\n",
        "result = numpy.linspace(0, 10, 5)\n",
        "print(result)  # Output: [ 0.   2.5  5.   7.5 10. ]"
      ]
    },
    {
      "cell_type": "markdown",
      "metadata": {
        "id": "K32OZkSuhTrO"
      },
      "source": [
        "When you install Python packages using a package manager like `pip`, the packages are downloaded and installed from a repository of pre-built packages called the Python Package Index (PyPI). There are thousands of third-party packages available on PyPI that you can use to extend Python's functionality, ranging from data analysis libraries like `pandas` and `numpy`, to image processing libraries like `opencv` and `scikit-image`, to deep learning frameworks like `tensorflow` and `pytorch`, and to web frameworks like `Django` and `Flask`."
      ]
    },
    {
      "cell_type": "markdown",
      "metadata": {
        "id": "Epc2J0BLdyJo"
      },
      "source": [
        "## References:\n",
        "\n",
        "\n",
        "*   https://www.learnpython.org/\n",
        "*   https://www.tutorialspoint.com/python/index.htm\n",
        "*   https://www.w3schools.com/python/\n",
        "\n",
        "\n",
        "\n"
      ]
    }
  ],
  "metadata": {
    "colab": {
      "provenance": []
    },
    "kernelspec": {
      "display_name": "Python 3",
      "name": "python3"
    },
    "language_info": {
      "name": "python"
    }
  },
  "nbformat": 4,
  "nbformat_minor": 0
}